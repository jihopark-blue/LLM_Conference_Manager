{
  "nbformat": 4,
  "nbformat_minor": 0,
  "metadata": {
    "colab": {
      "provenance": [],
      "machine_shape": "hm"
    },
    "kernelspec": {
      "name": "python3",
      "display_name": "Python 3"
    },
    "language_info": {
      "name": "python"
    }
  },
  "cells": [
    {
      "cell_type": "code",
      "source": [
        "import pandas as pd\n",
        "import os\n",
        "import librosa\n",
        "import soundfile as sf\n",
        "from tqdm import tqdm\n",
        "import wave\n",
        "import contextlib\n",
        "from concurrent.futures import ThreadPoolExecutor, as_completed"
      ],
      "metadata": {
        "id": "k0Nxx2Pr0z0H",
        "collapsed": true
      },
      "execution_count": null,
      "outputs": []
    },
    {
      "cell_type": "code",
      "source": [
        "# drive mount\n",
        "from google.colab import drive\n",
        "drive.mount('/content/drive')"
      ],
      "metadata": {
        "id": "atsCP_lGrmuR"
      },
      "execution_count": null,
      "outputs": []
    },
    {
      "cell_type": "markdown",
      "source": [
        "### 1. 경로 재할당"
      ],
      "metadata": {
        "id": "ks2Bv7kls6_l"
      }
    },
    {
      "cell_type": "code",
      "source": [
        "domain = 'domain'\n",
        "\n",
        "df = pd.read_csv(f\"/content/drive/MyDrive/nexochat/NexoChat_share_data/youtube_dataset_30sec/csv_file/{domain}/{domain}_cer_filtered.csv\", index_col=0)\n",
        "\n",
        "# CER==0 은 오류 데이터이므로 제거\n",
        "df = df[df['CER']!=0]"
      ],
      "metadata": {
        "id": "PUYRC3kkrozY"
      },
      "execution_count": null,
      "outputs": []
    },
    {
      "cell_type": "code",
      "source": [
        "# 'raw_data' 컬럼을 수정하여 'raw_data_resampled' 컬럼을 만드는 함수\n",
        "\n",
        "def modify_path(path):\n",
        "    # '/audio/segment/' 부분을 찾아 '/audio/resampled/'로 변경\n",
        "    new_path = path.replace('/audio/segment/', '/audio/resampled/')\n",
        "    return new_path\n",
        "\n",
        "# 새 컬럼 생성\n",
        "df['raw_data_resampled'] = df['raw_data'].apply(modify_path)\n",
        "\n",
        "df.to_csv(f\"/content/drive/MyDrive/nexochat/NexoChat_share_data/youtube_dataset_30sec/csv_file/{domain}/{domain}_cer_filtered.csv\")"
      ],
      "metadata": {
        "id": "73BKk7Wns4NW"
      },
      "execution_count": null,
      "outputs": []
    },
    {
      "cell_type": "markdown",
      "source": [
        "### 2. Resampling - 병렬처리"
      ],
      "metadata": {
        "id": "dCG-VKQ425mK"
      }
    },
    {
      "cell_type": "code",
      "source": [
        "import os\n",
        "import subprocess\n",
        "from tqdm import tqdm\n",
        "from concurrent.futures import ThreadPoolExecutor, as_completed\n",
        "\n",
        "# ffmpeg를 사용하여 오디오 파일을 16kHz 모노로 변환하는 함수\n",
        "def convert_to_16k_mono(input_path, output_path):\n",
        "    try:\n",
        "        # sampling rate를 16000으로, channel 수를 1개로 변경한다. 변경 완료 후 용량은 1/6배로 줄어든다.\n",
        "        # -y: 동일한 파일이 있을 경우 덮어쓴다.\n",
        "        command = [\n",
        "            'ffmpeg', '-y', '-i', input_path, '-ac', '1', '-ar', '16000', output_path\n",
        "        ]\n",
        "        subprocess.run(command, stdout=subprocess.PIPE, stderr=subprocess.PIPE, check=True)\n",
        "\n",
        "    except subprocess.CalledProcessError as e:\n",
        "        print(f\"Error: {e.stderr.decode()}\")\n",
        "\n",
        "# 데이터프레임을 순회하면서 필요한 모든 폴더를 미리 생성\n",
        "# 병렬 처리에서 파일이 중복으로 생기는 문제 방지\n",
        "for index, row in df.iterrows():\n",
        "    output_dir = os.path.dirname(row['raw_data_resampled'])\n",
        "    if not os.path.exists(output_dir):\n",
        "        os.makedirs(output_dir)\n",
        "\n",
        "# 병렬 처리를 위한 함수\n",
        "def process_audio(row):\n",
        "    convert_to_16k_mono(row['raw_data'], row['raw_data_resampled'])\n",
        "\n",
        "# 적절한 max_workers 값 설정\n",
        "# colab CPU 코어 수의 2배 설정\n",
        "max_workers = 16\n",
        "\n",
        "# 데이터프레임을 병렬로 처리\n",
        "with ThreadPoolExecutor(max_workers=max_workers) as executor:\n",
        "    futures = [executor.submit(process_audio, row) for index, row in df.iterrows()]\n",
        "    for future in tqdm(as_completed(futures), total=len(futures), desc=\"Processing audio files\"):\n",
        "        future.result()\n",
        "\n",
        "print(\"오디오 파일이 성공적으로 변환되어 저장되었습니다.\")\n"
      ],
      "metadata": {
        "id": "JPya3VKH2XJK",
        "colab": {
          "base_uri": "https://localhost:8080/"
        },
        "outputId": "e86179c8-df47-4e14-bf77-f2c36b927dce",
        "collapsed": true
      },
      "execution_count": null,
      "outputs": [
        {
          "output_type": "stream",
          "name": "stderr",
          "text": [
            "Processing audio files:  18%|█▊        | 3697/21001 [05:49<23:37, 12.21it/s]"
          ]
        }
      ]
    },
    {
      "cell_type": "markdown",
      "source": [
        "### 3. resampling 전후 용량 및 시간 차이 확인"
      ],
      "metadata": {
        "id": "2OSOx5CWdHmy"
      }
    },
    {
      "cell_type": "markdown",
      "source": [
        "- resample 전후 용량 차이 확인"
      ],
      "metadata": {
        "id": "Uiy89zTMF7uw"
      }
    },
    {
      "cell_type": "code",
      "source": [
        "def get_total_size(file_paths):\n",
        "    total_size = 0\n",
        "    for file_path in file_paths:\n",
        "        if os.path.exists(file_path):\n",
        "            total_size += os.path.getsize(file_path)\n",
        "    return total_size\n",
        "\n",
        "def format_size(size_in_bytes):\n",
        "    size_in_mb = size_in_bytes / (1024 ** 2)\n",
        "    size_in_gb = size_in_bytes / (1024 ** 3)\n",
        "    return size_in_mb, size_in_gb\n",
        "\n",
        "# raw_data 경로의 파일들의 용량 합계\n",
        "raw_data_total_size_bytes = get_total_size(df['raw_data'])\n",
        "raw_data_total_size_mb, raw_data_total_size_gb = format_size(raw_data_total_size_bytes)\n",
        "\n",
        "# raw_data_resampled 경로의 파일들의 용량 합계\n",
        "raw_data_resampled_total_size_bytes = get_total_size(df['raw_data_resampled'])\n",
        "raw_data_resampled_total_size_mb, raw_data_resampled_total_size_gb = format_size(raw_data_resampled_total_size_bytes)\n",
        "\n",
        "print(f\"Total size of raw_data files: {raw_data_total_size_bytes} bytes ({raw_data_total_size_mb:.2f} MB, {raw_data_total_size_gb:.2f} GB)\")\n",
        "print(f\"Total size of raw_data_resampled files: {raw_data_resampled_total_size_bytes} bytes ({raw_data_resampled_total_size_mb:.2f} MB, {raw_data_resampled_total_size_gb:.2f} GB)\")\n"
      ],
      "metadata": {
        "id": "trvsreIGF88v"
      },
      "execution_count": null,
      "outputs": []
    },
    {
      "cell_type": "markdown",
      "source": [
        "- resample 전후 시간 차이 확인"
      ],
      "metadata": {
        "id": "eMm-qYeJGAv3"
      }
    },
    {
      "cell_type": "code",
      "source": [
        "def get_audio_length(audio_file):\n",
        "    try:\n",
        "        if audio_file.endswith('.wav'):\n",
        "            with contextlib.closing(wave.open(audio_file, 'r')) as f:\n",
        "                frames = f.getnframes()\n",
        "                rate = f.getframerate()\n",
        "                duration = frames / float(rate)\n",
        "                return duration\n",
        "        else:\n",
        "            f = sf.SoundFile(audio_file)\n",
        "            return len(f) / f.samplerate\n",
        "    except Exception as e:\n",
        "        print(f\"Error processing file {audio_file}: {e}\")\n",
        "        return 0.0\n",
        "\n",
        "def calculate_total_length(audio_files):\n",
        "    total_length = 0.0\n",
        "    with ThreadPoolExecutor(max_workers=16) as executor:\n",
        "        future_to_file = {executor.submit(get_audio_length, file): file for file in audio_files}\n",
        "        for future in tqdm(as_completed(future_to_file), total=len(future_to_file), desc=\"Calculating audio lengths\"):\n",
        "            total_length += future.result()\n",
        "    return total_length\n",
        "\n",
        "# Calculate lengths for raw_data\n",
        "raw_data_list = list(df['raw_data'])\n",
        "total_length_raw = calculate_total_length(raw_data_list)\n",
        "\n",
        "# Calculate lengths for raw_data_resampled\n",
        "raw_data_resampled_list = list(df['raw_data_resampled'])\n",
        "total_length_resampled = calculate_total_length(raw_data_resampled_list)\n",
        "\n",
        "# Convert lengths to minutes and hours\n",
        "total_length_raw_minutes = total_length_raw / 60\n",
        "total_length_raw_hours = total_length_raw_minutes / 60\n",
        "\n",
        "total_length_resampled_minutes = total_length_resampled / 60\n",
        "total_length_resampled_hours = total_length_resampled_minutes / 60\n",
        "\n",
        "# Print results\n",
        "print(f\"Total length of all raw audio files: {total_length_raw:.2f} seconds\")\n",
        "print(f\"Total length of all raw audio files: {total_length_raw_minutes:.2f} minutes\")\n",
        "print(f\"Total length of all raw audio files: {total_length_raw_hours:.2f} hours\")\n",
        "\n",
        "print()\n",
        "\n",
        "print(f\"Total length of all resampled audio files: {total_length_resampled:.2f} seconds\")\n",
        "print(f\"Total length of all resampled audio files: {total_length_resampled_minutes:.2f} minutes\")\n",
        "print(f\"Total length of all resampled audio files: {total_length_resampled_hours:.2f} hours\")"
      ],
      "metadata": {
        "id": "OQras1BBGB8n"
      },
      "execution_count": null,
      "outputs": []
    }
  ]
}
