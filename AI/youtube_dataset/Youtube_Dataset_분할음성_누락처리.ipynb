{
  "cells": [
    {
      "cell_type": "code",
      "execution_count": null,
      "metadata": {
        "colab": {
          "base_uri": "https://localhost:8080/"
        },
        "id": "kfTlFvgViBCi",
        "outputId": "57a24e04-47b0-4ec9-a03f-2ee682398467"
      },
      "outputs": [
        {
          "output_type": "stream",
          "name": "stdout",
          "text": [
            "Mounted at /content/drive\n"
          ]
        }
      ],
      "source": [
        "from google.colab import drive\n",
        "\n",
        "# 드라이브를 강제로 다시 마운트합니다\n",
        "drive.mount('/content/drive', force_remount=True)"
      ]
    },
    {
      "cell_type": "code",
      "execution_count": null,
      "metadata": {
        "colab": {
          "base_uri": "https://localhost:8080/"
        },
        "id": "KqozCYs3_3BN",
        "outputId": "5d45eb56-60f3-495f-f684-f7bc915c10fe"
      },
      "outputs": [
        {
          "output_type": "stream",
          "name": "stdout",
          "text": [
            "\u001b[2K     \u001b[90m━━━━━━━━━━━━━━━━━━━━━━━━━━━━━━━━━━━━━━━━\u001b[0m \u001b[32m3.1/3.1 MB\u001b[0m \u001b[31m17.2 MB/s\u001b[0m eta \u001b[36m0:00:00\u001b[0m\n",
            "\u001b[2K     \u001b[90m━━━━━━━━━━━━━━━━━━━━━━━━━━━━━━━━━━━━━━━━\u001b[0m \u001b[32m3.0/3.0 MB\u001b[0m \u001b[31m41.1 MB/s\u001b[0m eta \u001b[36m0:00:00\u001b[0m\n",
            "\u001b[2K     \u001b[90m━━━━━━━━━━━━━━━━━━━━━━━━━━━━━━━━━━━━━━━━\u001b[0m \u001b[32m194.4/194.4 kB\u001b[0m \u001b[31m23.4 MB/s\u001b[0m eta \u001b[36m0:00:00\u001b[0m\n",
            "\u001b[2K     \u001b[90m━━━━━━━━━━━━━━━━━━━━━━━━━━━━━━━━━━━━━━━━\u001b[0m \u001b[32m2.1/2.1 MB\u001b[0m \u001b[31m56.0 MB/s\u001b[0m eta \u001b[36m0:00:00\u001b[0m\n",
            "\u001b[2K     \u001b[90m━━━━━━━━━━━━━━━━━━━━━━━━━━━━━━━━━━━━━━━━\u001b[0m \u001b[32m130.2/130.2 kB\u001b[0m \u001b[31m16.5 MB/s\u001b[0m eta \u001b[36m0:00:00\u001b[0m\n",
            "\u001b[?25h"
          ]
        }
      ],
      "source": [
        "!pip install yt-dlp -q -U\n",
        "!pip install pydub -q"
      ]
    },
    {
      "cell_type": "code",
      "execution_count": null,
      "metadata": {
        "id": "S1-ZnCZ7_l8q"
      },
      "outputs": [],
      "source": [
        "import re\n",
        "import pandas as pd\n",
        "import subprocess\n",
        "import os\n",
        "from pydub import AudioSegment\n",
        "from tqdm import tqdm\n",
        "from concurrent.futures import ProcessPoolExecutor\n",
        "import numpy as np\n",
        "import librosa\n",
        "import soundfile as sf"
      ]
    },
    {
      "cell_type": "code",
      "source": [
        "title = 'title'\n",
        "new_title='new_title'\n",
        "video_id = 'video_id'\n",
        "\n",
        "# 최종 음성: 분할 후 통합 완료된 음성\n",
        "# 잘못된 최종 음성 정보 있는 csv 파일\n",
        "retry_info = [f'/content/drive/MyDrive/NexoChat_share_data/youtube_dataset_30sec/subtitles/info/segement_30sec_info/{new_title}/{video_id}.csv',]\n",
        "\n",
        "# 잘못된 최종 음성 wav index\n",
        "retry_nums = [0]"
      ],
      "metadata": {
        "id": "4uyXJXfw4jmB"
      },
      "execution_count": null,
      "outputs": []
    },
    {
      "cell_type": "code",
      "source": [
        "# 시간 문자열을 밀리초로 변환하는 함수\n",
        "def time_to_milliseconds_librosa(time_str):\n",
        "    h, m, s = map(float, time_str.split(':'))\n",
        "    return int((h * 3600 + m * 60 + s) * 1000)\n",
        "\n",
        "def process_audio(csv_path):\n",
        "    video_id = csv_path[-15:-4]\n",
        "    df = pd.read_csv(csv_path)\n",
        "    for num, row in enumerate(df.itertuples()):\n",
        "        new_num = str(num).zfill(5)\n",
        "        audio_merge_list = json.loads(row.audio_list.replace(\"'\", '\"')) # 합쳐야 하는 분할된 오디오 segment 리스트 [00001.wav, 00005.wav ...]\n",
        "        merged_audio = []\n",
        "\n",
        "        if int(new_num) not in retry_nums: # 잘못된 최종 음성이 아니라면 무시한다.\n",
        "            continue\n",
        "\n",
        "        # print(f'{audio_merge_list} merge 시작')\n",
        "        # print(int(new_num))\n",
        "\n",
        "        for audio_file in audio_merge_list:\n",
        "\n",
        "            tmp = pd.read_csv(f'/content/drive/MyDrive/NexoChat_share_data/youtube_dataset_30sec/subtitles/info/segment_info/{new_title}/{video_id}.csv')\n",
        "\n",
        "            # 분할해야 하는 오디오 segment 리스트 정보 (00005.wav)\n",
        "            tmp = tmp[tmp['audio'] == audio_file]\n",
        "\n",
        "            # 전체 오디오\n",
        "            full_audio, sr = librosa.load(f'/content/drive/MyDrive/NexoChat_share_data/youtube_dataset/audio/original/{title}/{video_id}.wav', sr=None)\n",
        "\n",
        "            # print(f'{audio_file} 쪼갬 - {tmp[\"start_time\"].iloc[0]} ~ {tmp[\"end_time\"].iloc[0]}\\n')\n",
        "\n",
        "            # 분할해야 하는 오디오 segment 의 timestamp 정보, timestamp 정보 전처리\n",
        "            tmp['start_time'] = tmp['start_time'].apply(time_to_milliseconds_librosa)\n",
        "            tmp['end_time'] = tmp['end_time'].apply(time_to_milliseconds_librosa)\n",
        "\n",
        "            start_time = int(tmp['start_time'].iloc[0])\n",
        "            end_time = int(tmp['end_time'].iloc[0])\n",
        "\n",
        "            start_sample = int(start_time * sr / 1000)\n",
        "            end_sample = int(end_time * sr / 1000)\n",
        "\n",
        "            # timestamp 정보에 따라 원본 오디오 분할\n",
        "            seg = full_audio[start_sample:end_sample]\n",
        "\n",
        "            # 분할된 오디오를 합친다.\n",
        "            seg_path = f'/content/{audio_file}'\n",
        "            sf.write(seg_path, seg, sr)\n",
        "            merged_audio.extend(seg)\n",
        "\n",
        "        # 최종 음성 저장\n",
        "        audio_save_folder = f'/content/drive/MyDrive/NexoChat_share_data/youtube_dataset_30sec/audio/segment/{new_title}/{video_id}'\n",
        "        os.makedirs(audio_save_folder, exist_ok=True)\n",
        "        audio_save_path = os.path.join(audio_save_folder, f'{new_num}.wav')\n",
        "        sf.write(audio_save_path, merged_audio, sr)\n",
        "\n",
        "        # print(f'{row.sub}\\n\\n')\n",
        "\n",
        "# 병렬처리\n",
        "def main(subtitle_info):\n",
        "    with ProcessPoolExecutor() as executor:\n",
        "        list(tqdm(executor.map(process_audio, subtitle_info), total=len(subtitle_info)))"
      ],
      "metadata": {
        "id": "7O7WryKLAoOg"
      },
      "execution_count": null,
      "outputs": []
    },
    {
      "cell_type": "code",
      "source": [
        "main(retry_info)"
      ],
      "metadata": {
        "colab": {
          "base_uri": "https://localhost:8080/"
        },
        "collapsed": true,
        "id": "-HJhs2u-4zwJ",
        "outputId": "1b4aabef-7679-4195-e1fa-ace49ffafde0"
      },
      "execution_count": null,
      "outputs": [
        {
          "output_type": "stream",
          "name": "stderr",
          "text": [
            "\r  0%|          | 0/1 [00:00<?, ?it/s]"
          ]
        },
        {
          "output_type": "stream",
          "name": "stdout",
          "text": [
            "['00000.wav', '00001.wav', '00002.wav', '00003.wav', '00004.wav', '00005.wav', '00006.wav', '00007.wav', '00008.wav', '00009.wav', '00010.wav', '00011.wav'] merge 시작\n",
            "0\n",
            "00000.wav 쪼갬 - 00:01:11.688 ~ 00:01:13.688\n",
            "\n",
            "00001.wav 쪼갬 - 00:01:15.409 ~ 00:01:19.663\n",
            "\n",
            "00002.wav 쪼갬 - 00:01:19.663 ~ 00:01:21.832\n",
            "\n",
            "00003.wav 쪼갬 - 00:01:22.625 ~ 00:01:25.961\n",
            "\n",
            "00004.wav 쪼갬 - 00:01:25.961 ~ 00:01:29.298\n",
            "\n",
            "00005.wav 쪼갬 - 00:01:29.715 ~ 00:01:32.259\n",
            "\n",
            "00006.wav 쪼갬 - 00:01:33.761 ~ 00:01:36.263\n",
            "\n",
            "00007.wav 쪼갬 - 00:01:36.430 ~ 00:01:38.599\n",
            "\n",
            "00008.wav 쪼갬 - 00:01:39.350 ~ 00:01:41.018\n",
            "\n",
            "00009.wav 쪼갬 - 00:01:42.228 ~ 00:01:43.938\n",
            "\n",
            "00010.wav 쪼갬 - 00:01:44.438 ~ 00:01:45.314\n",
            "\n",
            "00011.wav 쪼갬 - 00:01:47.891 ~ 00:01:49.652\n",
            "\n",
            " 일단 성남에 감독을 했으면 하는 생각을 옛날부터 갖고 있었고 제가 몸담았던 팀이기 때문에 항상 애정이 있는 팀이라고 생각을 하고 있었기 때문에 옛날부터 준비를 많이 했었고 어떤 계기가 되어서 성남에 오게 되었는데 성남이 좋은 상황일 때 왔으면 좋은데 어려운 상황에 팀을 맡게 되어서 책임감도 강하게 생각하고 잘 해야겠다는 생각을 많이 가지고 이 팀에 오게 되었습니다 일단 선수들이 처음에 모였을 때는\n",
            "\n",
            "\n"
          ]
        },
        {
          "output_type": "stream",
          "name": "stderr",
          "text": [
            "100%|██████████| 1/1 [00:31<00:00, 31.13s/it]\n"
          ]
        }
      ]
    }
  ],
  "metadata": {
    "colab": {
      "machine_shape": "hm",
      "provenance": []
    },
    "kernelspec": {
      "display_name": "Python 3",
      "name": "python3"
    },
    "language_info": {
      "name": "python"
    }
  },
  "nbformat": 4,
  "nbformat_minor": 0
}
